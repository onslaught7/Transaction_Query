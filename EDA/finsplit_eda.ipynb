{
 "cells": [
  {
   "cell_type": "markdown",
   "metadata": {
    "id": "g-Lsls61hs70"
   },
   "source": [
    "# Retail Transaction Dataset\n",
    "\n",
    "## 1. Overview\n",
    "This dataset contains **100,000** retail transactions, capturing various aspects of customer purchases, including product details, pricing, discounts, and store locations.\n",
    "\n",
    "## Column Descriptions\n",
    "\n",
    "| Column Name          | Description |\n",
    "|----------------------|-------------|\n",
    "| **CustomerID**       | Unique identifier for each customer. |\n",
    "| **ProductID**        | The product code (A, B, C, or D). |\n",
    "| **Quantity**         | Number of units purchased in a transaction. |\n",
    "| **Price**            | Price per unit of the product. |\n",
    "| **TransactionDate**  | Date and time of the transaction (MM/DD/YYYY HH:MM format). |\n",
    "| **PaymentMethod**    | Mode of payment (e.g., Cash, Credit Card, Debit Card, PayPal). |\n",
    "| **StoreLocation**    | Physical store location where the purchase occurred. |\n",
    "| **ProductCategory**  | Category of the product (e.g., Clothing, Electronics, Books, Home Decor). |\n",
    "| **DiscountApplied(%)** | Discount percentage applied to the transaction. |\n",
    "| **TotalAmount**      | Final transaction amount after discounts. |\n",
    "\n"
   ]
  },
  {
   "cell_type": "markdown",
   "metadata": {
    "id": "swLTPiG8uql2"
   },
   "source": [
    "## Next Steps\n",
    "1. **Data Cleaning & Preprocessing**: Handle missing values, duplicates, and inconsistent formatting.\n",
    "2. **Exploratory Data Analysis (EDA)**:\n",
    "   - Analyze **sales trends over time**.\n",
    "   - Examine **customer spending habits**.\n",
    "   - Identify **best-selling product categories**.\n",
    "3. **Visualization**:\n",
    "   - Sales distribution by **time, category, and location**.\n",
    "   - **Discount impact** on sales.\n",
    "   - Customer segmentation for **insights into shopping behavior**."
   ]
  },
  {
   "cell_type": "code",
   "execution_count": 2,
   "metadata": {},
   "outputs": [
    {
     "name": "stdout",
     "output_type": "stream",
     "text": [
      "Defaulting to user installation because normal site-packages is not writeable\n",
      "Requirement already satisfied: pandas in c:\\users\\kruti\\appdata\\roaming\\python\\python312\\site-packages (2.2.3)\n",
      "Requirement already satisfied: numpy in c:\\users\\kruti\\appdata\\roaming\\python\\python312\\site-packages (2.2.3)\n",
      "Requirement already satisfied: python-dateutil>=2.8.2 in c:\\users\\kruti\\appdata\\roaming\\python\\python312\\site-packages (from pandas) (2.9.0.post0)\n",
      "Requirement already satisfied: pytz>=2020.1 in c:\\users\\kruti\\appdata\\roaming\\python\\python312\\site-packages (from pandas) (2025.1)\n",
      "Requirement already satisfied: tzdata>=2022.7 in c:\\users\\kruti\\appdata\\roaming\\python\\python312\\site-packages (from pandas) (2025.1)\n",
      "Requirement already satisfied: six>=1.5 in c:\\users\\kruti\\appdata\\roaming\\python\\python312\\site-packages (from python-dateutil>=2.8.2->pandas) (1.17.0)\n",
      "Note: you may need to restart the kernel to use updated packages.\n"
     ]
    }
   ],
   "source": [
    "%pip install pandas numpy "
   ]
  },
  {
   "cell_type": "code",
   "execution_count": 1,
   "metadata": {
    "id": "murFY-MVgiis"
   },
   "outputs": [],
   "source": [
    "import pandas as pd\n",
    "import numpy as np"
   ]
  },
  {
   "cell_type": "code",
   "execution_count": 2,
   "metadata": {
    "id": "BuwgRYYvwd3g"
   },
   "outputs": [
    {
     "data": {
      "text/html": [
       "<div>\n",
       "<style scoped>\n",
       "    .dataframe tbody tr th:only-of-type {\n",
       "        vertical-align: middle;\n",
       "    }\n",
       "\n",
       "    .dataframe tbody tr th {\n",
       "        vertical-align: top;\n",
       "    }\n",
       "\n",
       "    .dataframe thead th {\n",
       "        text-align: right;\n",
       "    }\n",
       "</style>\n",
       "<table border=\"1\" class=\"dataframe\">\n",
       "  <thead>\n",
       "    <tr style=\"text-align: right;\">\n",
       "      <th></th>\n",
       "      <th>CustomerID</th>\n",
       "      <th>ProductID</th>\n",
       "      <th>Quantity</th>\n",
       "      <th>Price</th>\n",
       "      <th>TransactionDate</th>\n",
       "      <th>PaymentMethod</th>\n",
       "      <th>StoreLocation</th>\n",
       "      <th>ProductCategory</th>\n",
       "      <th>DiscountApplied(%)</th>\n",
       "      <th>TotalAmount</th>\n",
       "    </tr>\n",
       "  </thead>\n",
       "  <tbody>\n",
       "    <tr>\n",
       "      <th>0</th>\n",
       "      <td>109318</td>\n",
       "      <td>C</td>\n",
       "      <td>7</td>\n",
       "      <td>80.079844</td>\n",
       "      <td>12/26/2023 12:32</td>\n",
       "      <td>Cash</td>\n",
       "      <td>176 Andrew Cliffs\\nBaileyfort, HI 93354</td>\n",
       "      <td>Books</td>\n",
       "      <td>18.677100</td>\n",
       "      <td>455.862764</td>\n",
       "    </tr>\n",
       "    <tr>\n",
       "      <th>1</th>\n",
       "      <td>993229</td>\n",
       "      <td>C</td>\n",
       "      <td>4</td>\n",
       "      <td>75.195229</td>\n",
       "      <td>8/5/2023 0:00</td>\n",
       "      <td>Cash</td>\n",
       "      <td>11635 William Well Suite 809\\nEast Kara, MT 19483</td>\n",
       "      <td>Home Decor</td>\n",
       "      <td>14.121365</td>\n",
       "      <td>258.306546</td>\n",
       "    </tr>\n",
       "    <tr>\n",
       "      <th>2</th>\n",
       "      <td>579675</td>\n",
       "      <td>A</td>\n",
       "      <td>8</td>\n",
       "      <td>31.528816</td>\n",
       "      <td>3/11/2024 18:51</td>\n",
       "      <td>Cash</td>\n",
       "      <td>910 Mendez Ville Suite 909\\nPort Lauraland, MO...</td>\n",
       "      <td>Books</td>\n",
       "      <td>15.943701</td>\n",
       "      <td>212.015651</td>\n",
       "    </tr>\n",
       "    <tr>\n",
       "      <th>3</th>\n",
       "      <td>799826</td>\n",
       "      <td>D</td>\n",
       "      <td>5</td>\n",
       "      <td>98.880218</td>\n",
       "      <td>10/27/2023 22:00</td>\n",
       "      <td>PayPal</td>\n",
       "      <td>87522 Sharon Corners Suite 500\\nLake Tammy, MO...</td>\n",
       "      <td>Books</td>\n",
       "      <td>6.686337</td>\n",
       "      <td>461.343769</td>\n",
       "    </tr>\n",
       "    <tr>\n",
       "      <th>4</th>\n",
       "      <td>121413</td>\n",
       "      <td>A</td>\n",
       "      <td>7</td>\n",
       "      <td>93.188512</td>\n",
       "      <td>12/22/2023 11:38</td>\n",
       "      <td>Cash</td>\n",
       "      <td>0070 Michelle Island Suite 143\\nHoland, VA 80142</td>\n",
       "      <td>Electronics</td>\n",
       "      <td>4.030096</td>\n",
       "      <td>626.030484</td>\n",
       "    </tr>\n",
       "  </tbody>\n",
       "</table>\n",
       "</div>"
      ],
      "text/plain": [
       "   CustomerID ProductID  Quantity      Price   TransactionDate PaymentMethod  \\\n",
       "0      109318         C         7  80.079844  12/26/2023 12:32          Cash   \n",
       "1      993229         C         4  75.195229     8/5/2023 0:00          Cash   \n",
       "2      579675         A         8  31.528816   3/11/2024 18:51          Cash   \n",
       "3      799826         D         5  98.880218  10/27/2023 22:00        PayPal   \n",
       "4      121413         A         7  93.188512  12/22/2023 11:38          Cash   \n",
       "\n",
       "                                       StoreLocation ProductCategory  \\\n",
       "0            176 Andrew Cliffs\\nBaileyfort, HI 93354           Books   \n",
       "1  11635 William Well Suite 809\\nEast Kara, MT 19483      Home Decor   \n",
       "2  910 Mendez Ville Suite 909\\nPort Lauraland, MO...           Books   \n",
       "3  87522 Sharon Corners Suite 500\\nLake Tammy, MO...           Books   \n",
       "4   0070 Michelle Island Suite 143\\nHoland, VA 80142     Electronics   \n",
       "\n",
       "   DiscountApplied(%)  TotalAmount  \n",
       "0           18.677100   455.862764  \n",
       "1           14.121365   258.306546  \n",
       "2           15.943701   212.015651  \n",
       "3            6.686337   461.343769  \n",
       "4            4.030096   626.030484  "
      ]
     },
     "execution_count": 2,
     "metadata": {},
     "output_type": "execute_result"
    }
   ],
   "source": [
    "transaction_df = pd.read_csv('Retail_Transaction_Dataset.csv')\n",
    "transaction_df.head()"
   ]
  },
  {
   "cell_type": "code",
   "execution_count": 3,
   "metadata": {},
   "outputs": [
    {
     "name": "stdout",
     "output_type": "stream",
     "text": [
      "<class 'pandas.core.frame.DataFrame'>\n",
      "RangeIndex: 100000 entries, 0 to 99999\n",
      "Data columns (total 10 columns):\n",
      " #   Column              Non-Null Count   Dtype  \n",
      "---  ------              --------------   -----  \n",
      " 0   CustomerID          100000 non-null  int64  \n",
      " 1   ProductID           100000 non-null  object \n",
      " 2   Quantity            100000 non-null  int64  \n",
      " 3   Price               100000 non-null  float64\n",
      " 4   TransactionDate     100000 non-null  object \n",
      " 5   PaymentMethod       100000 non-null  object \n",
      " 6   StoreLocation       100000 non-null  object \n",
      " 7   ProductCategory     100000 non-null  object \n",
      " 8   DiscountApplied(%)  100000 non-null  float64\n",
      " 9   TotalAmount         100000 non-null  float64\n",
      "dtypes: float64(3), int64(2), object(5)\n",
      "memory usage: 7.6+ MB\n"
     ]
    }
   ],
   "source": [
    "transaction_df.info()"
   ]
  },
  {
   "cell_type": "code",
   "execution_count": 4,
   "metadata": {},
   "outputs": [
    {
     "data": {
      "text/plain": [
       "CustomerID            0\n",
       "ProductID             0\n",
       "Quantity              0\n",
       "Price                 0\n",
       "TransactionDate       0\n",
       "PaymentMethod         0\n",
       "StoreLocation         0\n",
       "ProductCategory       0\n",
       "DiscountApplied(%)    0\n",
       "TotalAmount           0\n",
       "dtype: int64"
      ]
     },
     "execution_count": 4,
     "metadata": {},
     "output_type": "execute_result"
    }
   ],
   "source": [
    "# Check for missing values\n",
    "\n",
    "transaction_df.isnull().sum()"
   ]
  },
  {
   "cell_type": "code",
   "execution_count": 5,
   "metadata": {},
   "outputs": [
    {
     "data": {
      "text/plain": [
       "CustomerID             95215\n",
       "ProductID                  4\n",
       "Quantity                   9\n",
       "Price                 100000\n",
       "TransactionDate        91025\n",
       "PaymentMethod              4\n",
       "StoreLocation         100000\n",
       "ProductCategory            4\n",
       "DiscountApplied(%)    100000\n",
       "TotalAmount            99998\n",
       "dtype: int64"
      ]
     },
     "execution_count": 5,
     "metadata": {},
     "output_type": "execute_result"
    }
   ],
   "source": [
    "transaction_df.nunique()"
   ]
  },
  {
   "cell_type": "markdown",
   "metadata": {},
   "source": [
    "## 2. Unique Categories for Filtering and Aggregation\n",
    "\n",
    "We have **4 unique values** for the following fields:  \n",
    "- **`ProductID`**  \n",
    "- **`PaymentMethod`**  \n",
    "- **`ProductCategory`**\n",
    "\n",
    "✅ We can use these fields to create **aggregated charts** and insights.  \n",
    "✅ These categories can serve as **filter options** in our web application to display reports more effectively.  \n"
   ]
  },
  {
   "cell_type": "code",
   "execution_count": 6,
   "metadata": {},
   "outputs": [
    {
     "name": "stdout",
     "output_type": "stream",
     "text": [
      "ProductID: ['C' 'A' 'D' 'B']\n",
      "PaymentMethod: ['Cash' 'PayPal' 'Debit Card' 'Credit Card']\n",
      "ProductCategory: ['Books' 'Home Decor' 'Electronics' 'Clothing']\n"
     ]
    }
   ],
   "source": [
    "# Taking a look at what are the unique values in these fields\n",
    "category_counts = {\n",
    "    \"ProductID\": transaction_df[\"ProductID\"].nunique(),\n",
    "    \"PaymentMethod\": transaction_df[\"PaymentMethod\"].nunique(),\n",
    "    \"ProductCategory\": transaction_df[\"ProductCategory\"].nunique(),\n",
    "}\n",
    "\n",
    "for field in category_counts:\n",
    "    print(f\"{field}: {transaction_df[field].unique()}\")\n"
   ]
  },
  {
   "cell_type": "code",
   "execution_count": 7,
   "metadata": {},
   "outputs": [
    {
     "name": "stdout",
     "output_type": "stream",
     "text": [
      "<class 'pandas.core.frame.DataFrame'>\n",
      "RangeIndex: 100000 entries, 0 to 99999\n",
      "Data columns (total 10 columns):\n",
      " #   Column              Non-Null Count   Dtype  \n",
      "---  ------              --------------   -----  \n",
      " 0   customerid          100000 non-null  int64  \n",
      " 1   productid           100000 non-null  object \n",
      " 2   quantity            100000 non-null  int64  \n",
      " 3   price               100000 non-null  float64\n",
      " 4   transactiondate     100000 non-null  object \n",
      " 5   paymentmethod       100000 non-null  object \n",
      " 6   storelocation       100000 non-null  object \n",
      " 7   productcategory     100000 non-null  object \n",
      " 8   discountapplied(%)  100000 non-null  float64\n",
      " 9   totalamount         100000 non-null  float64\n",
      "dtypes: float64(3), int64(2), object(5)\n",
      "memory usage: 7.6+ MB\n"
     ]
    }
   ],
   "source": [
    "# Making sure our collumn names are consistent and easy to use\n",
    "# Since we will be importing them to a SQL database and use queries\n",
    "transaction_df.columns = transaction_df.columns.str.lower()\n",
    "transaction_df.info()"
   ]
  },
  {
   "cell_type": "markdown",
   "metadata": {},
   "source": [
    "## 3. Our data is mostly clean and doesn't require any further cleaning as of now\n",
    "\n",
    "### ☑️ We can move on to Feature Engineering and Transformation"
   ]
  },
  {
   "cell_type": "code",
   "execution_count": 8,
   "metadata": {},
   "outputs": [
    {
     "name": "stdout",
     "output_type": "stream",
     "text": [
      "<class 'pandas.core.frame.DataFrame'>\n",
      "RangeIndex: 100000 entries, 0 to 99999\n",
      "Data columns (total 10 columns):\n",
      " #   Column              Non-Null Count   Dtype         \n",
      "---  ------              --------------   -----         \n",
      " 0   customerid          100000 non-null  int64         \n",
      " 1   productid           100000 non-null  object        \n",
      " 2   quantity            100000 non-null  int64         \n",
      " 3   price               100000 non-null  float64       \n",
      " 4   transactiondate     100000 non-null  datetime64[ns]\n",
      " 5   paymentmethod       100000 non-null  object        \n",
      " 6   storelocation       100000 non-null  object        \n",
      " 7   productcategory     100000 non-null  object        \n",
      " 8   discountapplied(%)  100000 non-null  float64       \n",
      " 9   totalamount         100000 non-null  float64       \n",
      "dtypes: datetime64[ns](1), float64(3), int64(2), object(4)\n",
      "memory usage: 7.6+ MB\n"
     ]
    }
   ],
   "source": [
    "# Transforming the object type transactiondate field to datetime type\n",
    "transaction_df['transactiondate'] = pd.to_datetime(transaction_df['transactiondate'])\n",
    "transaction_df.info()"
   ]
  },
  {
   "cell_type": "code",
   "execution_count": 9,
   "metadata": {},
   "outputs": [],
   "source": [
    "# Adding fields to our dataset namely year, month, day, and day of week\n",
    "# This will aid us in further detaild analysis and report generation\n",
    "transaction_df['year'] = transaction_df['transactiondate'].dt.year\n",
    "transaction_df['month'] = transaction_df['transactiondate'].dt.month\n",
    "transaction_df['day'] = transaction_df['transactiondate'].dt.day\n",
    "transaction_df['day_of_week'] = transaction_df['transactiondate'].dt.day_name()"
   ]
  },
  {
   "cell_type": "code",
   "execution_count": 10,
   "metadata": {},
   "outputs": [
    {
     "data": {
      "text/html": [
       "<div>\n",
       "<style scoped>\n",
       "    .dataframe tbody tr th:only-of-type {\n",
       "        vertical-align: middle;\n",
       "    }\n",
       "\n",
       "    .dataframe tbody tr th {\n",
       "        vertical-align: top;\n",
       "    }\n",
       "\n",
       "    .dataframe thead th {\n",
       "        text-align: right;\n",
       "    }\n",
       "</style>\n",
       "<table border=\"1\" class=\"dataframe\">\n",
       "  <thead>\n",
       "    <tr style=\"text-align: right;\">\n",
       "      <th></th>\n",
       "      <th>customerid</th>\n",
       "      <th>productid</th>\n",
       "      <th>quantity</th>\n",
       "      <th>price</th>\n",
       "      <th>transactiondate</th>\n",
       "      <th>paymentmethod</th>\n",
       "      <th>storelocation</th>\n",
       "      <th>productcategory</th>\n",
       "      <th>discountapplied(%)</th>\n",
       "      <th>totalamount</th>\n",
       "      <th>year</th>\n",
       "      <th>month</th>\n",
       "      <th>day</th>\n",
       "      <th>day_of_week</th>\n",
       "    </tr>\n",
       "  </thead>\n",
       "  <tbody>\n",
       "    <tr>\n",
       "      <th>0</th>\n",
       "      <td>109318</td>\n",
       "      <td>C</td>\n",
       "      <td>7</td>\n",
       "      <td>80.079844</td>\n",
       "      <td>2023-12-26 12:32:00</td>\n",
       "      <td>Cash</td>\n",
       "      <td>176 Andrew Cliffs\\nBaileyfort, HI 93354</td>\n",
       "      <td>Books</td>\n",
       "      <td>18.677100</td>\n",
       "      <td>455.862764</td>\n",
       "      <td>2023</td>\n",
       "      <td>12</td>\n",
       "      <td>26</td>\n",
       "      <td>Tuesday</td>\n",
       "    </tr>\n",
       "    <tr>\n",
       "      <th>1</th>\n",
       "      <td>993229</td>\n",
       "      <td>C</td>\n",
       "      <td>4</td>\n",
       "      <td>75.195229</td>\n",
       "      <td>2023-08-05 00:00:00</td>\n",
       "      <td>Cash</td>\n",
       "      <td>11635 William Well Suite 809\\nEast Kara, MT 19483</td>\n",
       "      <td>Home Decor</td>\n",
       "      <td>14.121365</td>\n",
       "      <td>258.306546</td>\n",
       "      <td>2023</td>\n",
       "      <td>8</td>\n",
       "      <td>5</td>\n",
       "      <td>Saturday</td>\n",
       "    </tr>\n",
       "    <tr>\n",
       "      <th>2</th>\n",
       "      <td>579675</td>\n",
       "      <td>A</td>\n",
       "      <td>8</td>\n",
       "      <td>31.528816</td>\n",
       "      <td>2024-03-11 18:51:00</td>\n",
       "      <td>Cash</td>\n",
       "      <td>910 Mendez Ville Suite 909\\nPort Lauraland, MO...</td>\n",
       "      <td>Books</td>\n",
       "      <td>15.943701</td>\n",
       "      <td>212.015651</td>\n",
       "      <td>2024</td>\n",
       "      <td>3</td>\n",
       "      <td>11</td>\n",
       "      <td>Monday</td>\n",
       "    </tr>\n",
       "    <tr>\n",
       "      <th>3</th>\n",
       "      <td>799826</td>\n",
       "      <td>D</td>\n",
       "      <td>5</td>\n",
       "      <td>98.880218</td>\n",
       "      <td>2023-10-27 22:00:00</td>\n",
       "      <td>PayPal</td>\n",
       "      <td>87522 Sharon Corners Suite 500\\nLake Tammy, MO...</td>\n",
       "      <td>Books</td>\n",
       "      <td>6.686337</td>\n",
       "      <td>461.343769</td>\n",
       "      <td>2023</td>\n",
       "      <td>10</td>\n",
       "      <td>27</td>\n",
       "      <td>Friday</td>\n",
       "    </tr>\n",
       "    <tr>\n",
       "      <th>4</th>\n",
       "      <td>121413</td>\n",
       "      <td>A</td>\n",
       "      <td>7</td>\n",
       "      <td>93.188512</td>\n",
       "      <td>2023-12-22 11:38:00</td>\n",
       "      <td>Cash</td>\n",
       "      <td>0070 Michelle Island Suite 143\\nHoland, VA 80142</td>\n",
       "      <td>Electronics</td>\n",
       "      <td>4.030096</td>\n",
       "      <td>626.030484</td>\n",
       "      <td>2023</td>\n",
       "      <td>12</td>\n",
       "      <td>22</td>\n",
       "      <td>Friday</td>\n",
       "    </tr>\n",
       "  </tbody>\n",
       "</table>\n",
       "</div>"
      ],
      "text/plain": [
       "   customerid productid  quantity      price     transactiondate  \\\n",
       "0      109318         C         7  80.079844 2023-12-26 12:32:00   \n",
       "1      993229         C         4  75.195229 2023-08-05 00:00:00   \n",
       "2      579675         A         8  31.528816 2024-03-11 18:51:00   \n",
       "3      799826         D         5  98.880218 2023-10-27 22:00:00   \n",
       "4      121413         A         7  93.188512 2023-12-22 11:38:00   \n",
       "\n",
       "  paymentmethod                                      storelocation  \\\n",
       "0          Cash            176 Andrew Cliffs\\nBaileyfort, HI 93354   \n",
       "1          Cash  11635 William Well Suite 809\\nEast Kara, MT 19483   \n",
       "2          Cash  910 Mendez Ville Suite 909\\nPort Lauraland, MO...   \n",
       "3        PayPal  87522 Sharon Corners Suite 500\\nLake Tammy, MO...   \n",
       "4          Cash   0070 Michelle Island Suite 143\\nHoland, VA 80142   \n",
       "\n",
       "  productcategory  discountapplied(%)  totalamount  year  month  day  \\\n",
       "0           Books           18.677100   455.862764  2023     12   26   \n",
       "1      Home Decor           14.121365   258.306546  2023      8    5   \n",
       "2           Books           15.943701   212.015651  2024      3   11   \n",
       "3           Books            6.686337   461.343769  2023     10   27   \n",
       "4     Electronics            4.030096   626.030484  2023     12   22   \n",
       "\n",
       "  day_of_week  \n",
       "0     Tuesday  \n",
       "1    Saturday  \n",
       "2      Monday  \n",
       "3      Friday  \n",
       "4      Friday  "
      ]
     },
     "execution_count": 10,
     "metadata": {},
     "output_type": "execute_result"
    }
   ],
   "source": [
    "transaction_df.head()"
   ]
  },
  {
   "cell_type": "code",
   "execution_count": 11,
   "metadata": {},
   "outputs": [
    {
     "data": {
      "text/plain": [
       "customerid             95215\n",
       "productid                  4\n",
       "quantity                   9\n",
       "price                 100000\n",
       "transactiondate        91025\n",
       "paymentmethod              4\n",
       "storelocation         100000\n",
       "productcategory            4\n",
       "discountapplied(%)    100000\n",
       "totalamount            99998\n",
       "year                       2\n",
       "month                     12\n",
       "day                       31\n",
       "day_of_week                7\n",
       "dtype: int64"
      ]
     },
     "execution_count": 11,
     "metadata": {},
     "output_type": "execute_result"
    }
   ],
   "source": [
    "transaction_df.nunique()"
   ]
  },
  {
   "cell_type": "markdown",
   "metadata": {},
   "source": [
    "### ☑️ We will convert the text data to all lowercase to help minimize issues in querying and filtering"
   ]
  },
  {
   "cell_type": "code",
   "execution_count": 12,
   "metadata": {},
   "outputs": [],
   "source": [
    "transaction_df['productcategory'] = transaction_df['productcategory'].str.lower()"
   ]
  },
  {
   "cell_type": "code",
   "execution_count": 13,
   "metadata": {},
   "outputs": [],
   "source": [
    "transaction_df.to_csv(\"cleaned_&_transformed_transactions.csv\", index=False)"
   ]
  },
  {
   "cell_type": "markdown",
   "metadata": {},
   "source": [
    "## 4. Analysis & Visualization Phase\n",
    "\n",
    "Now that the data has been cleaned and transformed, we move to the **analysis and visualization** phase.  \n",
    "In this section, we will explore trends, patterns, and insights through various **charts, graphs, and correlation matrices**.  \n",
    "\n",
    "The analysis will be structured into three key sections:  \n",
    "1. **Product-Centric Analysis** – Understanding product performance, pricing, and discounts.  \n",
    "2. **Customer-Centric Analysis** – Identifying spending behavior, top customers, and payment preferences.  \n",
    "3. **Date-Centric Analysis** – Examining sales trends over time and identifying peak transaction periods.  "
   ]
  },
  {
   "cell_type": "markdown",
   "metadata": {},
   "source": [
    "### ☑️ Let's start with the **Product-Centric Analysis**"
   ]
  },
  {
   "cell_type": "code",
   "execution_count": 14,
   "metadata": {},
   "outputs": [],
   "source": [
    "# Load the cleaned dataset\n",
    "cleaned_df = pd.read_csv(\"cleaned_&_transformed_transactions.csv\")"
   ]
  },
  {
   "cell_type": "code",
   "execution_count": 15,
   "metadata": {},
   "outputs": [
    {
     "data": {
      "text/html": [
       "<div>\n",
       "<style scoped>\n",
       "    .dataframe tbody tr th:only-of-type {\n",
       "        vertical-align: middle;\n",
       "    }\n",
       "\n",
       "    .dataframe tbody tr th {\n",
       "        vertical-align: top;\n",
       "    }\n",
       "\n",
       "    .dataframe thead th {\n",
       "        text-align: right;\n",
       "    }\n",
       "</style>\n",
       "<table border=\"1\" class=\"dataframe\">\n",
       "  <thead>\n",
       "    <tr style=\"text-align: right;\">\n",
       "      <th></th>\n",
       "      <th>customerid</th>\n",
       "      <th>productid</th>\n",
       "      <th>quantity</th>\n",
       "      <th>price</th>\n",
       "      <th>transactiondate</th>\n",
       "      <th>paymentmethod</th>\n",
       "      <th>storelocation</th>\n",
       "      <th>productcategory</th>\n",
       "      <th>discountapplied(%)</th>\n",
       "      <th>totalamount</th>\n",
       "      <th>year</th>\n",
       "      <th>month</th>\n",
       "      <th>day</th>\n",
       "      <th>day_of_week</th>\n",
       "    </tr>\n",
       "  </thead>\n",
       "  <tbody>\n",
       "    <tr>\n",
       "      <th>0</th>\n",
       "      <td>109318</td>\n",
       "      <td>C</td>\n",
       "      <td>7</td>\n",
       "      <td>80.079844</td>\n",
       "      <td>2023-12-26 12:32:00</td>\n",
       "      <td>Cash</td>\n",
       "      <td>176 Andrew Cliffs\\nBaileyfort, HI 93354</td>\n",
       "      <td>books</td>\n",
       "      <td>18.677100</td>\n",
       "      <td>455.862764</td>\n",
       "      <td>2023</td>\n",
       "      <td>12</td>\n",
       "      <td>26</td>\n",
       "      <td>Tuesday</td>\n",
       "    </tr>\n",
       "    <tr>\n",
       "      <th>1</th>\n",
       "      <td>993229</td>\n",
       "      <td>C</td>\n",
       "      <td>4</td>\n",
       "      <td>75.195229</td>\n",
       "      <td>2023-08-05 00:00:00</td>\n",
       "      <td>Cash</td>\n",
       "      <td>11635 William Well Suite 809\\nEast Kara, MT 19483</td>\n",
       "      <td>home decor</td>\n",
       "      <td>14.121365</td>\n",
       "      <td>258.306546</td>\n",
       "      <td>2023</td>\n",
       "      <td>8</td>\n",
       "      <td>5</td>\n",
       "      <td>Saturday</td>\n",
       "    </tr>\n",
       "    <tr>\n",
       "      <th>2</th>\n",
       "      <td>579675</td>\n",
       "      <td>A</td>\n",
       "      <td>8</td>\n",
       "      <td>31.528816</td>\n",
       "      <td>2024-03-11 18:51:00</td>\n",
       "      <td>Cash</td>\n",
       "      <td>910 Mendez Ville Suite 909\\nPort Lauraland, MO...</td>\n",
       "      <td>books</td>\n",
       "      <td>15.943701</td>\n",
       "      <td>212.015651</td>\n",
       "      <td>2024</td>\n",
       "      <td>3</td>\n",
       "      <td>11</td>\n",
       "      <td>Monday</td>\n",
       "    </tr>\n",
       "    <tr>\n",
       "      <th>3</th>\n",
       "      <td>799826</td>\n",
       "      <td>D</td>\n",
       "      <td>5</td>\n",
       "      <td>98.880218</td>\n",
       "      <td>2023-10-27 22:00:00</td>\n",
       "      <td>PayPal</td>\n",
       "      <td>87522 Sharon Corners Suite 500\\nLake Tammy, MO...</td>\n",
       "      <td>books</td>\n",
       "      <td>6.686337</td>\n",
       "      <td>461.343769</td>\n",
       "      <td>2023</td>\n",
       "      <td>10</td>\n",
       "      <td>27</td>\n",
       "      <td>Friday</td>\n",
       "    </tr>\n",
       "    <tr>\n",
       "      <th>4</th>\n",
       "      <td>121413</td>\n",
       "      <td>A</td>\n",
       "      <td>7</td>\n",
       "      <td>93.188512</td>\n",
       "      <td>2023-12-22 11:38:00</td>\n",
       "      <td>Cash</td>\n",
       "      <td>0070 Michelle Island Suite 143\\nHoland, VA 80142</td>\n",
       "      <td>electronics</td>\n",
       "      <td>4.030096</td>\n",
       "      <td>626.030484</td>\n",
       "      <td>2023</td>\n",
       "      <td>12</td>\n",
       "      <td>22</td>\n",
       "      <td>Friday</td>\n",
       "    </tr>\n",
       "  </tbody>\n",
       "</table>\n",
       "</div>"
      ],
      "text/plain": [
       "   customerid productid  quantity      price      transactiondate  \\\n",
       "0      109318         C         7  80.079844  2023-12-26 12:32:00   \n",
       "1      993229         C         4  75.195229  2023-08-05 00:00:00   \n",
       "2      579675         A         8  31.528816  2024-03-11 18:51:00   \n",
       "3      799826         D         5  98.880218  2023-10-27 22:00:00   \n",
       "4      121413         A         7  93.188512  2023-12-22 11:38:00   \n",
       "\n",
       "  paymentmethod                                      storelocation  \\\n",
       "0          Cash            176 Andrew Cliffs\\nBaileyfort, HI 93354   \n",
       "1          Cash  11635 William Well Suite 809\\nEast Kara, MT 19483   \n",
       "2          Cash  910 Mendez Ville Suite 909\\nPort Lauraland, MO...   \n",
       "3        PayPal  87522 Sharon Corners Suite 500\\nLake Tammy, MO...   \n",
       "4          Cash   0070 Michelle Island Suite 143\\nHoland, VA 80142   \n",
       "\n",
       "  productcategory  discountapplied(%)  totalamount  year  month  day  \\\n",
       "0           books           18.677100   455.862764  2023     12   26   \n",
       "1      home decor           14.121365   258.306546  2023      8    5   \n",
       "2           books           15.943701   212.015651  2024      3   11   \n",
       "3           books            6.686337   461.343769  2023     10   27   \n",
       "4     electronics            4.030096   626.030484  2023     12   22   \n",
       "\n",
       "  day_of_week  \n",
       "0     Tuesday  \n",
       "1    Saturday  \n",
       "2      Monday  \n",
       "3      Friday  \n",
       "4      Friday  "
      ]
     },
     "execution_count": 15,
     "metadata": {},
     "output_type": "execute_result"
    }
   ],
   "source": [
    "cleaned_df.head()"
   ]
  },
  {
   "cell_type": "code",
   "execution_count": 17,
   "metadata": {},
   "outputs": [
    {
     "data": {
      "text/plain": [
       "np.float64(4134931.768848901)"
      ]
     },
     "execution_count": 17,
     "metadata": {},
     "output_type": "execute_result"
    }
   ],
   "source": [
    "cleaned_df[(cleaned_df['productcategory'] == 'home decor') & (cleaned_df['year'] == 2023)]['totalamount'].sum()"
   ]
  },
  {
   "cell_type": "code",
   "execution_count": 19,
   "metadata": {},
   "outputs": [
    {
     "data": {
      "text/plain": [
       "np.float64(450600.64879052003)"
      ]
     },
     "execution_count": 19,
     "metadata": {},
     "output_type": "execute_result"
    }
   ],
   "source": [
    "cleaned_df[(cleaned_df['productcategory'] == 'books') & (cleaned_df['year'] == 2024)]['price'].sum()"
   ]
  }
 ],
 "metadata": {
  "colab": {
   "provenance": []
  },
  "kernelspec": {
   "display_name": "Python 3 (ipykernel)",
   "language": "python",
   "name": "python3"
  },
  "language_info": {
   "codemirror_mode": {
    "name": "ipython",
    "version": 3
   },
   "file_extension": ".py",
   "mimetype": "text/x-python",
   "name": "python",
   "nbconvert_exporter": "python",
   "pygments_lexer": "ipython3",
   "version": "3.12.6"
  }
 },
 "nbformat": 4,
 "nbformat_minor": 4
}
